{
 "cells": [
  {
   "cell_type": "markdown",
   "id": "344ae996",
   "metadata": {},
   "source": [
    "# Day 2"
   ]
  },
  {
   "cell_type": "markdown",
   "id": "3311f9a2",
   "metadata": {},
   "source": [
    "### Swapping of Two numbers without using 3rd variable"
   ]
  },
  {
   "cell_type": "markdown",
   "id": "a180e234",
   "metadata": {},
   "source": [
    "### Methode 1"
   ]
  },
  {
   "cell_type": "code",
   "execution_count": 25,
   "id": "2f64928e",
   "metadata": {},
   "outputs": [
    {
     "name": "stdout",
     "output_type": "stream",
     "text": [
      "Enter 1st Number: 3\n",
      "Enter 2nd Number: 5\n",
      "Before Swapping: \n",
      " First Number= 3 Second Number= 5\n",
      "After Swapping: \n",
      " First Number= 5 Second Number= 3\n"
     ]
    }
   ],
   "source": [
    "num1=int(input(\"Enter 1st Number: \"))\n",
    "num2=int(input(\"Enter 2nd Number: \"))\n",
    "\n",
    "print(\"Before Swapping: \\n\", \"First Number=\",num1,\"Second Number=\", num2)\n",
    "\n",
    "num1=num1+num2\n",
    "num2=num1-num2\n",
    "num1=num1-num2\n",
    "\n",
    "print(\"After Swapping: \\n\", \"First Number=\",num1,\"Second Number=\", num2)\n"
   ]
  },
  {
   "cell_type": "markdown",
   "id": "a7e743c9",
   "metadata": {},
   "source": [
    "### Methode 2"
   ]
  },
  {
   "cell_type": "code",
   "execution_count": 27,
   "id": "2df2fc49",
   "metadata": {},
   "outputs": [
    {
     "name": "stdout",
     "output_type": "stream",
     "text": [
      "Enter 1st Number: 4\n",
      "Enter 2nd Number: 7\n",
      "Before Swapping: \n",
      " First Number= 4 Second Number= 7\n",
      "After Swapping: \n",
      " First Number= 7 Second Number= 4\n"
     ]
    }
   ],
   "source": [
    "num1=int(input(\"Enter 1st Number: \"))\n",
    "num2=int(input(\"Enter 2nd Number: \"))\n",
    "\n",
    "print(\"Before Swapping: \\n\", \"First Number=\",num1,\"Second Number=\", num2)\n",
    "\n",
    "num1,num2=num2,num1\n",
    "\n",
    "print(\"After Swapping: \\n\", \"First Number=\",num1,\"Second Number=\", num2)\n"
   ]
  },
  {
   "cell_type": "code",
   "execution_count": null,
   "id": "ad754558",
   "metadata": {},
   "outputs": [],
   "source": []
  }
 ],
 "metadata": {
  "kernelspec": {
   "display_name": "Python 3 (ipykernel)",
   "language": "python",
   "name": "python3"
  },
  "language_info": {
   "codemirror_mode": {
    "name": "ipython",
    "version": 3
   },
   "file_extension": ".py",
   "mimetype": "text/x-python",
   "name": "python",
   "nbconvert_exporter": "python",
   "pygments_lexer": "ipython3",
   "version": "3.10.9"
  }
 },
 "nbformat": 4,
 "nbformat_minor": 5
}
