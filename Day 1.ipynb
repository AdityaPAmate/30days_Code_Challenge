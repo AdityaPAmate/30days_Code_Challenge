{
 "cells": [
  {
   "cell_type": "markdown",
   "id": "4fccfbb9",
   "metadata": {},
   "source": [
    "# Day 1"
   ]
  },
  {
   "cell_type": "markdown",
   "id": "d129a3a5",
   "metadata": {},
   "source": [
    "### Print Addition of two numbers without using 3rd variable"
   ]
  },
  {
   "cell_type": "code",
   "execution_count": 6,
   "id": "2495b7ec",
   "metadata": {},
   "outputs": [
    {
     "name": "stdout",
     "output_type": "stream",
     "text": [
      "Enter 1st Number: 2\n",
      "Enter 2nd Number: 3\n",
      "Addition of 2 Numbers:  5.0\n"
     ]
    }
   ],
   "source": [
    "num1=float(input(\"Enter 1st Number: \"))\n",
    "num2=float(input(\"Enter 2nd Number: \"))\n",
    "\n",
    "num1= num1+num2\n",
    "\n",
    "print(\"Addition of 2 Numbers: \", num1)\n"
   ]
  },
  {
   "cell_type": "markdown",
   "id": "549c8d89",
   "metadata": {},
   "source": []
  }
 ],
 "metadata": {
  "kernelspec": {
   "display_name": "Python 3 (ipykernel)",
   "language": "python",
   "name": "python3"
  },
  "language_info": {
   "codemirror_mode": {
    "name": "ipython",
    "version": 3
   },
   "file_extension": ".py",
   "mimetype": "text/x-python",
   "name": "python",
   "nbconvert_exporter": "python",
   "pygments_lexer": "ipython3",
   "version": "3.10.9"
  }
 },
 "nbformat": 4,
 "nbformat_minor": 5
}
